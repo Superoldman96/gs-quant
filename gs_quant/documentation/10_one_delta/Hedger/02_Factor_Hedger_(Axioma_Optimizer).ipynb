{
 "cells": [
  {
   "cell_type": "markdown",
   "metadata": {
    "collapsed": true,
    "jupyter": {
     "outputs_hidden": true
    },
    "pycharm": {
     "name": "#%% md\n"
    }
   },
   "source": [
    "# Portfolio Optimizer\n",
    "\n",
    "The portfolio optimizer brings together the power of the Axioma Portfolio Optimizer with Marquee's risk analytics infrastructure\n",
    "to make minimizing your portfolio's factor risk possible within the same ecosystem.\n",
    "\n",
    "To use the optimizer, you must have a license to the Axioma Portfolio Optimizer. Please reach out to the\n",
    "[Marquee sales team](mailto:gs-marquee-sales@ny.email.gs.com?Subject=Portfolio Optimizer Trial Request)\n",
    "to learn more about how to get a license or how to bring an existing license to Marquee.\n",
    "\n",
    "## Step 1: Authenticate and Initialize Your Session\n",
    "\n",
    "First you will import the necessary modules and add your client id and client secret."
   ]
  },
  {
   "cell_type": "code",
   "execution_count": null,
   "metadata": {
    "pycharm": {
     "name": "#%%\n"
    }
   },
   "outputs": [],
   "source": [
    "import datetime as dt\n",
    "import pandas as pd\n",
    "from IPython.display import display\n",
    "import warnings\n",
    "from gs_quant.markets.optimizer import (\n",
    "    OptimizerUniverse,\n",
    "    FactorConstraint,\n",
    "    AssetConstraint,\n",
    "    SectorConstraint,\n",
    "    IndustryConstraint,\n",
    "    OptimizerSettings,\n",
    "    OptimizerStrategy,\n",
    "    OptimizerConstraints,\n",
    "    OptimizerObjective,\n",
    "    OptimizerType,\n",
    "    OptimizerObjectiveTerm,\n",
    "    OptimizerObjectiveParameters,\n",
    "    ConstraintPriorities,\n",
    "    PrioritySetting,\n",
    "    CountryConstraint,\n",
    "    HedgeTarget,\n",
    ")\n",
    "from gs_quant.markets.position_set import Position, PositionSet\n",
    "from gs_quant.markets.securities import Asset, AssetIdentifier\n",
    "from gs_quant.models.risk_model import FactorRiskModel\n",
    "from gs_quant.session import GsSession, Environment\n",
    "from gs_quant.target.hedge import CorporateActionsTypes\n",
    "from gs_quant.markets.factor_analytics import FactorAnalytics\n",
    "\n",
    "client = None\n",
    "secret = None\n",
    "\n",
    "## External users must fill in their client ID and secret below and comment out the line below\n",
    "\n",
    "# client = 'ENTER CLIENT ID'\n",
    "# secret = 'ENTER CLIENT SECRET'\n",
    "\n",
    "GsSession.use(Environment.PROD, client_id=client, client_secret=secret)\n",
    "warnings.filterwarnings(\"ignore\", category=RuntimeWarning)\n",
    "\n",
    "print('GS Session initialized.')"
   ]
  },
  {
   "cell_type": "markdown",
   "metadata": {},
   "source": [
    "## Step 2: Define Your Initial Position Set\n",
    "\n",
    "Use the `PositionSet` class in GS Quant to define the initial holdings to optimize.\n",
    "You can define your positions as a list of identifiers with quantities or, alternatively, as a\n",
    "list of identifiers with weights, along with a reference notional value.\n",
    "\n",
    "*GS Quant will resolve all identifiers (Bloomberg IDs, SEDOLs, RICs, etc) historically as of the optimization date.*"
   ]
  },
  {
   "cell_type": "code",
   "execution_count": null,
   "metadata": {
    "pycharm": {
     "name": "#%%\n"
    }
   },
   "outputs": [],
   "source": [
    "position_set = PositionSet(\n",
    "    date=dt.date(day=23, month=4, year=2024),\n",
    "    reference_notional=10_000_000,\n",
    "    positions=[Position(identifier='AAPL UW', weight=0.4), Position(identifier='GS UN', weight=0.6)],\n",
    ")\n",
    "\n",
    "position_set.resolve()"
   ]
  },
  {
   "cell_type": "markdown",
   "metadata": {},
   "source": [
    "### Step 2.1: Analyze Initial Portfolio Risk Exposures\n",
    "\n",
    "Analyze the risk exposures of the initial portfolio using the Marquee PreTrade."
   ]
  },
  {
   "cell_type": "code",
   "execution_count": null,
   "metadata": {},
   "outputs": [],
   "source": [
    "# Set parameters for factor analysis in PreTrade\n",
    "risk_model_id = 'AXIOMA_AXUS4S'\n",
    "currency = 'USD'\n",
    "participation_rate = 0.1\n",
    "\n",
    "analytics = FactorAnalytics(risk_model_id=risk_model_id, currency=currency, participation_rate=participation_rate)\n",
    "\n",
    "print('Running risk analysis on initial portfolio...')\n",
    "try:\n",
    "    initial_analysis = analytics.get_factor_analysis(position_set)\n",
    "\n",
    "    print('\\nInitial Portfolio Summary:')\n",
    "    summary_table = analytics.create_exposure_summary_table(initial_analysis)\n",
    "    display(summary_table)\n",
    "except Exception as e:\n",
    "    print('\\nERROR: Factor analysis failed\\n')\n",
    "    print(f'{str(e)}')\n",
    "    raise"
   ]
  },
  {
   "cell_type": "markdown",
   "metadata": {},
   "source": [
    "### Step 2.2: Visualize Initial Portfolio Style Factor Exposures\n",
    "\n",
    "View the top contributing style factors in your initial portfolio."
   ]
  },
  {
   "cell_type": "code",
   "execution_count": null,
   "metadata": {},
   "outputs": [],
   "source": [
    "fig = analytics.create_style_factor_chart(initial_analysis, rows=5, title='Initial Portfolio - Style Factor Exposures')\n",
    "fig.show()\n",
    "\n",
    "print('\\nStyle factors displayed (e.g., Volatility, Market Sensitivity, Momentum, Size, Value, etc.)')"
   ]
  },
  {
   "cell_type": "markdown",
   "metadata": {},
   "source": [
    "### Step 2.3: Historical Performance Metrics\n",
    "\n",
    "View dynamic performance metrics for the initial portfolio over the past year."
   ]
  },
  {
   "cell_type": "code",
   "execution_count": null,
   "metadata": {},
   "outputs": [],
   "source": [
    "# Create dynamic performance chart with time series data from liquidity endpoint\n",
    "# Shows cumulative PnL and normalized performance over time\n",
    "performance_chart = analytics.create_dynamic_performance_chart(\n",
    "    initial_analysis, title='Initial Portfolio - Historical Performance Metrics'\n",
    ")\n",
    "performance_chart.show()\n",
    "\n",
    "print('\\nUse the dropdown menu above to toggle between:')\n",
    "print('- Cumulative PnL')\n",
    "print('- Normalized Performance')"
   ]
  },
  {
   "cell_type": "markdown",
   "metadata": {},
   "source": [
    "## Step 3: Define Your Optimizer Universe\n",
    "\n",
    "An optimizer universe corresponds to the assets that can be used when constructing an optimization, which can be created\n",
    "using the `OptimizerUniverse` class:\n",
    "\n",
    "| Parameter | Description | Type| Default Value|\n",
    "|-----------------|---------------|-------------|-------------\n",
    "| `assets`      | Assets to include in the universe. |`List[Asset]`| N/A |\n",
    "| `explode_composites`     | Explode indices, ETFs, and baskets and include their underliers in the universe. |`boolean`| `True` |\n",
    "| `exclude_initial_position_set_assets`       | Exclude assets in the initial holdings from the optimization. | `boolean` | `False` |\n",
    "| `exclude_corporate_actions_types`     | Set of of corporate actions to be excluded in the universe. |`List[CorporateActionsTypes]`| `[]` |\n",
    "| `exclude_hard_to_borrow_assets`       | Exclude hard to borrow assets from the universe. | `boolean` | `False` |\n",
    "| `exclude_restricted_assets`       | Exclude assets on restricted trading lists from the universe. | `boolean` | `False` |\n",
    "| `min_market_cap`       | Lowest market cap allowed for any universe constituent. | `float` | `None` |\n",
    "| `max_market_cap`       | Highest market cap allowed for any universe constituent. | `float` | `None` |"
   ]
  },
  {
   "cell_type": "code",
   "execution_count": null,
   "metadata": {
    "pycharm": {
     "name": "#%%\n"
    }
   },
   "outputs": [],
   "source": [
    "asset_list = ['SPY US']\n",
    "asset_list_resolved = [Asset.get(x, AssetIdentifier.BLOOMBERG_COMPOSITE_ID) for x in asset_list]\n",
    "\n",
    "universe = OptimizerUniverse(\n",
    "    assets=asset_list_resolved,\n",
    "    explode_composites=True,\n",
    "    exclude_initial_position_set_assets=True,\n",
    "    exclude_restricted_assets=True,\n",
    "    exclude_hard_to_borrow_assets=True,\n",
    "    exclude_corporate_actions_types=[CorporateActionsTypes.Mergers],\n",
    ")"
   ]
  },
  {
   "cell_type": "markdown",
   "metadata": {},
   "source": [
    "## Step 4: Define Your Risk Model and Factor Risk Constraints\n",
    "\n",
    "You can run the optimizer using a factor risk model of your choice, so long as you have a license for it, by leveraging\n",
    "the `FactorRiskModel` class. For any factor in the risk model, you can set more granular constraints on the optimized\n",
    "portfolio's exposure to the factor.\n",
    "\n",
    "In this example, let's use the Axioma AXUS4S model and limit the final exposure to Volatility be $10,000 and\n",
    "the final exposure of Market Sensitivity to be 5,000."
   ]
  },
  {
   "cell_type": "markdown",
   "metadata": {},
   "source": [
    "### Pulling Factor Names from Risk Models\n",
    "\n",
    "You can run the code below to pull the factor names for your model. "
   ]
  },
  {
   "cell_type": "code",
   "execution_count": null,
   "metadata": {
    "pycharm": {
     "name": "#%%\n"
    }
   },
   "outputs": [],
   "source": [
    "risk_model = FactorRiskModel.get('AXIOMA_AXUS4S')\n",
    "\n",
    "risk_model_factors = risk_model.get_many_factors(dt.date(2025, 4, 9))\n",
    "risk_model_factors_names = pd.DataFrame([x.name for x in risk_model_factors])\n",
    "pd.set_option('display.max_rows', 87)\n",
    "print(risk_model_factors_names)"
   ]
  },
  {
   "cell_type": "markdown",
   "metadata": {},
   "source": [
    "### Set your Factor Constraints\n",
    "\n",
    "Note that different models might have different sets of factor names, if the code below doesn't work please confirm that the factor name used exists in the Risk Model as shown above. "
   ]
  },
  {
   "cell_type": "code",
   "execution_count": null,
   "metadata": {},
   "outputs": [],
   "source": [
    "factor_constraints = [\n",
    "    FactorConstraint(risk_model.get_factor('Volatility'), 10000),\n",
    "    FactorConstraint(risk_model.get_factor('Market Sensitivity'), 5000),\n",
    "]"
   ]
  },
  {
   "cell_type": "markdown",
   "metadata": {},
   "source": [
    "## Step 5: Define Other Optimization Constraints\n",
    "\n",
    "Outside factor-specific constraints, it's also possible to limit the holding value of individual assets, assets\n",
    "belonging to a particular GICS sector, and/or assets in a particular country of domicile in the optimization.\n",
    "\n",
    "In this example, let's constrain the optimization to have 0-50% Microsoft and limit the optimization's notional\n",
    "coming from Energy and Health Care assets to each be 0-80%. We also limit exposure from gics industry (one level more granular than sector) to be from [0, 50%]"
   ]
  },
  {
   "cell_type": "code",
   "execution_count": null,
   "metadata": {
    "pycharm": {
     "name": "#%%\n"
    }
   },
   "outputs": [],
   "source": [
    "asset_constraints = [\n",
    "    AssetConstraint(Asset.get('MSFT UW', AssetIdentifier.BLOOMBERG_ID), 0, 50),\n",
    "]\n",
    "\n",
    "sector_constraints = [SectorConstraint('Energy', 0, 80), SectorConstraint('Health Care', 0, 80)]\n",
    "industry_constraints = [IndustryConstraint('Energy Equipment & Services', 0, 50)]\n",
    "country_constraints = [CountryConstraint('United States', 0, 100)]"
   ]
  },
  {
   "cell_type": "markdown",
   "metadata": {},
   "source": [
    "## Step 6: Configure Your Optimization Settings\n",
    "\n",
    "All other settings for the optimization can be set via the `OptimizerSettings` class:\n",
    "\n",
    "| Parameter          | Description | Type| Default Value|\n",
    "|--------------------|---------------|-------------|-------------\n",
    "| `notional`         | Max gross notional value of the optimization |`float`| `10000000` |\n",
    "| `allow_long_short` | Allow a long/short optimization |`boolean`| `False` |\n",
    "| `min_names`        | Minimum number of assets in the optimization |`float`| `0` |\n",
    "| `max_names`        | Maximum number of assets in the optimization |`float`| `100` |\n",
    "| `min_weight_per_constituent`       | Minimum weight of each constituent in the optimization |`float`| `None` |\n",
    "| `max_weight_per_constituent`       | Maximum weight of each constituent in the optimization |`float`| `None` |\n",
    "| `max_adv`        | Maximum average daily volume of each constituent in the optimization (in percent) |`float`| `15` |\n",
    "| `constraint_priorities`        | Priorities to relax some or all constraints in the strategy |`ConstraintPriorities`| `None` |\n"
   ]
  },
  {
   "cell_type": "markdown",
   "metadata": {},
   "source": [
    "Let's put above parameters in action. In below cell \n",
    "\n",
    "    * style exposure constraint is tightened up\n",
    "    * sector, industry, country weights constraint can be relaxed if it is not feasiable to find a solution that meets all requirements. \n",
    "    * number of names in the hedge from [0, 100]\n",
    "    * weight range for constituents from hedge from [1%, 99%]\n",
    "    * max daily ADV less than 15%\n",
    "    * one sided hedge as allow_long_short is turned off.\n",
    "    "
   ]
  },
  {
   "cell_type": "code",
   "execution_count": null,
   "metadata": {
    "pycharm": {
     "name": "#%%\n"
    }
   },
   "outputs": [],
   "source": [
    "constraint_priorities = ConstraintPriorities(\n",
    "    style_factor_exposures=PrioritySetting.ZERO,\n",
    "    min_sector_weights=PrioritySetting.ONE,\n",
    "    max_sector_weights=PrioritySetting.ONE,\n",
    "    min_industry_weights=PrioritySetting.ONE,\n",
    "    max_industry_weights=PrioritySetting.ONE,\n",
    "    min_country_weights=PrioritySetting.ONE,\n",
    "    max_country_weights=PrioritySetting.ONE,\n",
    ")\n",
    "\n",
    "settings = OptimizerSettings(\n",
    "    allow_long_short=False,\n",
    "    constraint_priorities=constraint_priorities,\n",
    "    min_names=0,\n",
    "    max_names=100,\n",
    "    min_weight_per_constituent=0.01,\n",
    "    max_weight_per_constituent=0.99,\n",
    "    max_adv=15,\n",
    ")"
   ]
  },
  {
   "cell_type": "markdown",
   "metadata": {},
   "source": [
    "## Step 7: Create and Run a Strategy\n",
    "\n",
    "It's finally time to take all these parameters and construct an optimizer strategy using the `OptimizerStrategy` class in which all the building blocks configured from previous steps are put together. \n",
    "\n",
    "    * initial portfolio\n",
    "    * style, sector, industry and country constraints\n",
    "    * constraint priorities\n",
    "    * optimization settings with number of names, weight limits and liquitdy limits on a one sided hedge\n",
    "    * optimization objectives to minimize on factor risk only\n"
   ]
  },
  {
   "cell_type": "code",
   "execution_count": null,
   "metadata": {
    "pycharm": {
     "name": "#%%\n"
    }
   },
   "outputs": [],
   "source": [
    "constraints = OptimizerConstraints(\n",
    "    asset_constraints=asset_constraints,\n",
    "    sector_constraints=sector_constraints,\n",
    "    factor_constraints=factor_constraints,\n",
    "    industry_constraints=industry_constraints,\n",
    ")\n",
    "\n",
    "# define specific risk penalty to be 0 to optimize on factor risk only\n",
    "risk_term = OptimizerObjectiveTerm(params={'specific_weight': 0, 'factor_weight': 1})\n",
    "objective_parameters = OptimizerObjectiveParameters(terms=[risk_term])\n",
    "\n",
    "strategy = OptimizerStrategy(\n",
    "    initial_position_set=position_set,\n",
    "    constraints=constraints,\n",
    "    settings=settings,\n",
    "    universe=universe,\n",
    "    risk_model=risk_model,\n",
    "    objective=OptimizerObjective.MINIMIZE_FACTOR_RISK,\n",
    "    objective_parameters=objective_parameters,\n",
    ")"
   ]
  },
  {
   "cell_type": "code",
   "execution_count": null,
   "metadata": {},
   "outputs": [],
   "source": [
    "strategy.run(optimizer_type=OptimizerType.AXIOMA_PORTFOLIO_OPTIMIZER)\n",
    "\n",
    "# Get hedge and hedged portfolio\n",
    "hedge = strategy.get_optimization()  # Returns just the optimization results as a PositionSet object\n",
    "hedged_portfolio = strategy.get_optimized_position_set()\n",
    "\n",
    "print(f'\\nHedge Portfolio: {len(hedge.positions)} positions')\n",
    "hedge_df = pd.DataFrame(\n",
    "    [\n",
    "        {\n",
    "            'Asset': p.identifier,\n",
    "            'Quantity': f'{p.quantity:.0f}' if p.quantity else '',\n",
    "            'Weight': f'{p.weight:.2%}' if p.weight else '',\n",
    "        }\n",
    "        for p in hedge.positions\n",
    "    ]\n",
    ")\n",
    "display(hedge_df)"
   ]
  },
  {
   "cell_type": "markdown",
   "metadata": {},
   "source": [
    "### Step 7.1: Analyze Hedged Portfolio Performance\n",
    "\n",
    "View the cumulative PnL performance of the hedged portfolio."
   ]
  },
  {
   "cell_type": "code",
   "execution_count": null,
   "metadata": {},
   "outputs": [],
   "source": [
    "performance_df = strategy.get_cumulative_pnl_performance(HedgeTarget.HEDGED_TARGET)\n",
    "\n",
    "if not performance_df.empty:\n",
    "    print('\\nHedged Portfolio Cumulative PnL Performance:')\n",
    "    fig = analytics.create_performance_chart(\n",
    "        performance_df, metric='cumulativePnl', title='Hedged Portfolio - Cumulative PnL'\n",
    "    )\n",
    "    fig.show()\n",
    "else:\n",
    "    print('No performance data available')"
   ]
  },
  {
   "cell_type": "markdown",
   "metadata": {},
   "source": [
    "### Step 7.2: Visualize Hedged Portfolio Style Factor Exposures\n",
    "\n",
    "View the style factor exposures after hedging."
   ]
  },
  {
   "cell_type": "code",
   "execution_count": null,
   "metadata": {},
   "outputs": [],
   "source": [
    "# Create style factor chart (excludes GICS classification data)\n",
    "hedged_factor_exposures = strategy.get_style_factor_exposures(HedgeTarget.HEDGED_TARGET)\n",
    "hedged_analysis = analytics.convert_hedge_factor_exposures(hedged_factor_exposures)\n",
    "fig = analytics.create_style_factor_chart(hedged_analysis, rows=5, title='Hedged Portfolio - Style Factor Exposures')\n",
    "fig.show()\n",
    "\n",
    "print('\\nStyle factors displayed (e.g., Volatility, Market Sensitivity, Momentum, Size, Value, etc.)')"
   ]
  },
  {
   "cell_type": "markdown",
   "metadata": {},
   "source": [
    "### Step 7.3: Compare Initial vs Hedged Portfolio\n",
    "\n",
    "Compare key risk metrics between the initial and hedged portfolios."
   ]
  },
  {
   "cell_type": "code",
   "execution_count": null,
   "metadata": {},
   "outputs": [],
   "source": [
    "# Display performance summary from strategy in separate tables\n",
    "print('\\nPerformance Summary from Hedge Calculation:')\n",
    "try:\n",
    "    summary = strategy.get_performance_summary()\n",
    "\n",
    "    # Optionally display all metrics in one combined table\n",
    "    print('\\n--- All Metrics (Combined) ---')\n",
    "    display(summary['combined'])\n",
    "\n",
    "except Exception as e:\n",
    "    print(f'Could not retrieve performance summary: {str(e)}')"
   ]
  },
  {
   "cell_type": "markdown",
   "metadata": {},
   "source": [
    "#### Side-by-Side Factor Comparison\n",
    "\n",
    "Compare all style factor exposures between initial and hedged portfolios using a grouped bar chart."
   ]
  },
  {
   "cell_type": "code",
   "execution_count": null,
   "metadata": {},
   "outputs": [],
   "source": [
    "# Create side-by-side comparison of all style factors\n",
    "print('Creating Style Factor Comparison Chart...\\n')\n",
    "comparison_chart = analytics.create_factor_heatmap_comparison(\n",
    "    initial_analysis, hedged_analysis, title='Style Factor Comparison: Initial vs Hedged Target Portfolio'\n",
    ")\n",
    "comparison_chart.show()\n",
    "\n",
    "print('\\nThis chart displays all style factors with side-by-side bars for easy comparison.')\n",
    "print('Blue bars = Initial Portfolio | Green bars = Hedged Target Portfolio')\n",
    "print('Factors are sorted by initial portfolio exposure (largest to smallest by absolute value).')\n",
    "print('A vertical line at zero helps identify positive vs negative exposures.')"
   ]
  },
  {
   "cell_type": "markdown",
   "metadata": {},
   "source": [
    "#### Note:\n",
    "If code above fails to find optimization, relax the constraints and try again."
   ]
  },
  {
   "cell_type": "markdown",
   "metadata": {
    "pycharm": {
     "name": "#%% md\n"
    }
   },
   "source": [
    "## Step 8: Create a Basket or Portfolio With Your Results\n",
    "\n",
    "Now that you have a position set for your optimization and your optimized position set, you can upload either to a basket or\n",
    "portfolio by following the following tutorials:\n",
    "\n",
    "- [Create a Basket](https://nbviewer.org/github/goldmansachs/gs-quant/blob/master/gs_quant/documentation/06_baskets/tutorials/Basket%20Create.ipynb)\n",
    "- [Create a Portfolio](https://nbviewer.org/github/goldmansachs/gs-quant/blob/master/gs_quant/documentation/10_one_delta/scripts/portfolios/01_Create%20New%20Historical%20Portfolio.ipynb)\n",
    "\n",
    "*Other questions? Reach out to the [Portfolio Analytics team](mailto:gs-marquee-analytics-support@gs.com)!*\n"
   ]
  },
  {
   "cell_type": "code",
   "execution_count": null,
   "metadata": {},
   "outputs": [],
   "source": []
  }
 ],
 "metadata": {
  "kernelspec": {
   "display_name": "venv312 (3.12.1)",
   "language": "python",
   "name": "python3"
  },
  "language_info": {
   "codemirror_mode": {
    "name": "ipython",
    "version": 3
   },
   "file_extension": ".py",
   "mimetype": "text/x-python",
   "name": "python",
   "nbconvert_exporter": "python",
   "pygments_lexer": "ipython3",
   "version": "3.12.1"
  }
 },
 "nbformat": 4,
 "nbformat_minor": 4
}
